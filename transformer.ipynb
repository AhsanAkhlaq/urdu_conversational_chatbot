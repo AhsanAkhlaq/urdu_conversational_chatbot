{
 "cells": [
  {
   "cell_type": "code",
   "execution_count": 1,
   "id": "79a79dce",
   "metadata": {},
   "outputs": [],
   "source": [
    "import matplotlib.pyplot as plt\n",
    "import torch\n",
    "import torch.nn as nn\n",
    "import random\n",
    "from torch.utils.data import Dataset, DataLoader\n",
    "import sentencepiece as sp\n",
    "from tqdm import tqdm\n",
    "import math\n",
    "import numpy as np"
   ]
  },
  {
   "cell_type": "code",
   "execution_count": 2,
   "id": "1d13d8ab",
   "metadata": {},
   "outputs": [
    {
     "name": "stdout",
     "output_type": "stream",
     "text": [
      "Requirement already satisfied: rouge_score in c:\\users\\ncs\\anaconda3\\envs\\env_ml_2\\lib\\site-packages (0.1.2)\n",
      "Requirement already satisfied: sacrebleu in c:\\users\\ncs\\anaconda3\\envs\\env_ml_2\\lib\\site-packages (2.5.1)\n",
      "Requirement already satisfied: absl-py in c:\\users\\ncs\\anaconda3\\envs\\env_ml_2\\lib\\site-packages (from rouge_score) (2.3.1)\n",
      "Requirement already satisfied: nltk in c:\\users\\ncs\\anaconda3\\envs\\env_ml_2\\lib\\site-packages (from rouge_score) (3.9.1)\n",
      "Requirement already satisfied: numpy in c:\\users\\ncs\\anaconda3\\envs\\env_ml_2\\lib\\site-packages (from rouge_score) (2.0.1)\n",
      "Requirement already satisfied: six>=1.14.0 in c:\\users\\ncs\\anaconda3\\envs\\env_ml_2\\lib\\site-packages (from rouge_score) (1.17.0)\n",
      "Requirement already satisfied: portalocker in c:\\users\\ncs\\anaconda3\\envs\\env_ml_2\\lib\\site-packages (from sacrebleu) (3.2.0)\n",
      "Requirement already satisfied: regex in c:\\users\\ncs\\anaconda3\\envs\\env_ml_2\\lib\\site-packages (from sacrebleu) (2025.9.18)\n",
      "Requirement already satisfied: tabulate>=0.8.9 in c:\\users\\ncs\\anaconda3\\envs\\env_ml_2\\lib\\site-packages (from sacrebleu) (0.9.0)\n",
      "Requirement already satisfied: colorama in c:\\users\\ncs\\anaconda3\\envs\\env_ml_2\\lib\\site-packages (from sacrebleu) (0.4.6)\n",
      "Requirement already satisfied: lxml in c:\\users\\ncs\\anaconda3\\envs\\env_ml_2\\lib\\site-packages (from sacrebleu) (6.0.2)\n",
      "Requirement already satisfied: click in c:\\users\\ncs\\anaconda3\\envs\\env_ml_2\\lib\\site-packages (from nltk->rouge_score) (8.2.1)\n",
      "Requirement already satisfied: joblib in c:\\users\\ncs\\anaconda3\\envs\\env_ml_2\\lib\\site-packages (from nltk->rouge_score) (1.5.1)\n",
      "Requirement already satisfied: tqdm in c:\\users\\ncs\\anaconda3\\envs\\env_ml_2\\lib\\site-packages (from nltk->rouge_score) (4.67.1)\n",
      "Requirement already satisfied: pywin32>=226 in c:\\users\\ncs\\anaconda3\\envs\\env_ml_2\\lib\\site-packages (from portalocker->sacrebleu) (311)\n"
     ]
    }
   ],
   "source": [
    "!pip install rouge_score sacrebleu"
   ]
  },
  {
   "cell_type": "code",
   "execution_count": 3,
   "id": "6de9a281",
   "metadata": {},
   "outputs": [],
   "source": [
    "from sacrebleu.metrics import BLEU, CHRF\n",
    "from rouge_score import rouge_scorer"
   ]
  },
  {
   "cell_type": "code",
   "execution_count": 4,
   "id": "7144dde5",
   "metadata": {},
   "outputs": [
    {
     "name": "stdout",
     "output_type": "stream",
     "text": [
      "Using device: cpu\n"
     ]
    }
   ],
   "source": [
    "device = torch.device('cuda' if torch.cuda.is_available() else 'cpu')\n",
    "print(f\"Using device: {device}\")\n",
    "torch.set_default_device(device)\n",
    "torch.set_default_dtype(torch.float32)"
   ]
  },
  {
   "cell_type": "code",
   "execution_count": 5,
   "id": "c8e16e9b",
   "metadata": {},
   "outputs": [
    {
     "data": {
      "text/plain": [
       "True"
      ]
     },
     "execution_count": 5,
     "metadata": {},
     "output_type": "execute_result"
    }
   ],
   "source": [
    "tokenizer = sp.SentencePieceProcessor()\n",
    "tokenizer.Load('D:/Workspace/PYTHON/NLP/Project2/tokenizer/unigram/unigram_tokenizer.model')\n",
    "    "
   ]
  },
  {
   "cell_type": "code",
   "execution_count": 6,
   "id": "e8bd517b",
   "metadata": {},
   "outputs": [
    {
     "name": "stdout",
     "output_type": "stream",
     "text": [
      "Vocabulary size: 256\n",
      "PAD ID: 0\n"
     ]
    }
   ],
   "source": [
    "VOCAB_SIZE = tokenizer.get_piece_size()\n",
    "PAD_ID = tokenizer.piece_to_id('<pad>')\n",
    "    \n",
    "print(f\"Vocabulary size: {VOCAB_SIZE}\")\n",
    "print(f\"PAD ID: {PAD_ID}\")\n",
    "    "
   ]
  },
  {
   "cell_type": "code",
   "execution_count": 7,
   "id": "4d4036f3",
   "metadata": {},
   "outputs": [],
   "source": [
    "data = torch.load('D:/Workspace/PYTHON/NLP/Project2/Data/span_corruption_dataset.pt')\n",
    "input_ids = data['input_ids']\n",
    "target_ids = data['target_ids']\n",
    "    "
   ]
  },
  {
   "cell_type": "code",
   "execution_count": 8,
   "id": "d3954e03",
   "metadata": {},
   "outputs": [
    {
     "name": "stdout",
     "output_type": "stream",
     "text": [
      "Training samples: 8197\n",
      "Validation samples: 2050\n"
     ]
    }
   ],
   "source": [
    "split_idx = int(len(input_ids) * 0.8)\n",
    "train_input = input_ids[:split_idx]\n",
    "train_target = target_ids[:split_idx]\n",
    "val_input = input_ids[split_idx:]\n",
    "val_target = target_ids[split_idx:]\n",
    "\n",
    "print(f\"Training samples: {len(train_input)}\")\n",
    "print(f\"Validation samples: {len(val_input)}\")\n"
   ]
  },
  {
   "cell_type": "code",
   "execution_count": 9,
   "id": "cacef9c9",
   "metadata": {},
   "outputs": [],
   "source": [
    "class UrduDataset(Dataset):\n",
    "    def __init__(self,input_ids,target_ids):\n",
    "        super().__init__()\n",
    "        self.input_ids = input_ids\n",
    "        self.target_ids = target_ids\n",
    "\n",
    "    def __len__(self):\n",
    "        return len(self.input_ids)\n",
    "    def __getitem__(self, idx):\n",
    "        return {\n",
    "            'input_ids': torch.tensor(self.input_ids[idx], dtype=torch.long),\n",
    "            'target_ids': torch.tensor(self.target_ids[idx], dtype=torch.long)\n",
    "        }\n",
    "    \n",
    "def collate_fn(batch):\n",
    "    input_ids = [item['input_ids'] for item in batch]\n",
    "    target_ids = [item['target_ids'] for item in batch]\n",
    "    \n",
    "    input_ids=nn.utils.rnn.pad_sequence(input_ids,batch_first=True,padding_value=PAD_ID)\n",
    "    target_ids=nn.utils.rnn.pad_sequence(target_ids,batch_first=True,padding_value=PAD_ID)\n",
    "    return {\n",
    "        'input_ids': input_ids,\n",
    "        'target_ids': target_ids\n",
    "    }"
   ]
  },
  {
   "cell_type": "code",
   "execution_count": 10,
   "id": "21a9e153",
   "metadata": {},
   "outputs": [],
   "source": [
    "train_dataset = UrduDataset(train_input, train_target)\n",
    "val_dataset = UrduDataset(val_input, val_target)\n",
    "    \n",
    "train_loader = DataLoader(\n",
    "    train_dataset, \n",
    "    batch_size=32, \n",
    "    shuffle=True,\n",
    "    collate_fn=collate_fn\n",
    ")\n",
    "val_loader = DataLoader(\n",
    "    val_dataset, \n",
    "    batch_size=32, \n",
    "    shuffle=False,\n",
    "    collate_fn=collate_fn\n",
    ")\n"
   ]
  },
  {
   "cell_type": "code",
   "execution_count": null,
   "id": "e2446679",
   "metadata": {},
   "outputs": [],
   "source": []
  },
  {
   "cell_type": "markdown",
   "id": "ccd3e2b5",
   "metadata": {},
   "source": [
    "# --------------------TRANSFORMER CODE--------------------------"
   ]
  },
  {
   "cell_type": "code",
   "execution_count": 11,
   "id": "baf13064",
   "metadata": {},
   "outputs": [],
   "source": [
    "\n",
    "\n",
    "def get_positional_encoding(max_seq_len, dm):\n",
    "    pos=torch.arange(max_seq_len).unsqueeze(1)               \n",
    "    denom = 10000 ** (2 * torch.arange(0, dm//2)/ dm)\n",
    "    angles = pos / denom\n",
    "    PE = torch.zeros(max_seq_len, dm)\n",
    "    PE[:, 0::2] = torch.sin(angles)         \n",
    "    PE[:, 1::2] = torch.cos(angles)  \n",
    "    return PE    "
   ]
  },
  {
   "cell_type": "code",
   "execution_count": 12,
   "id": "e2eaec83",
   "metadata": {},
   "outputs": [
    {
     "name": "stdout",
     "output_type": "stream",
     "text": [
      "torch.Size([20, 50])\n",
      "tensor([[ 0.0000e+00,  1.0000e+00,  0.0000e+00,  1.0000e+00,  0.0000e+00,\n",
      "          1.0000e+00,  0.0000e+00,  1.0000e+00,  0.0000e+00,  1.0000e+00,\n",
      "          0.0000e+00,  1.0000e+00,  0.0000e+00,  1.0000e+00,  0.0000e+00,\n",
      "          1.0000e+00,  0.0000e+00,  1.0000e+00,  0.0000e+00,  1.0000e+00,\n",
      "          0.0000e+00,  1.0000e+00,  0.0000e+00,  1.0000e+00,  0.0000e+00,\n",
      "          1.0000e+00,  0.0000e+00,  1.0000e+00,  0.0000e+00,  1.0000e+00,\n",
      "          0.0000e+00,  1.0000e+00,  0.0000e+00,  1.0000e+00,  0.0000e+00,\n",
      "          1.0000e+00,  0.0000e+00,  1.0000e+00,  0.0000e+00,  1.0000e+00,\n",
      "          0.0000e+00,  1.0000e+00,  0.0000e+00,  1.0000e+00,  0.0000e+00,\n",
      "          1.0000e+00,  0.0000e+00,  1.0000e+00,  0.0000e+00,  1.0000e+00],\n",
      "        [ 8.4147e-01,  5.4030e-01,  6.3795e-01,  7.7008e-01,  4.6056e-01,\n",
      "          8.8763e-01,  3.2511e-01,  9.4568e-01,  2.2709e-01,  9.7387e-01,\n",
      "          1.5783e-01,  9.8747e-01,  1.0943e-01,  9.9399e-01,  7.5785e-02,\n",
      "          9.9712e-01,  5.2457e-02,  9.9862e-01,  3.6300e-02,  9.9934e-01,\n",
      "          2.5116e-02,  9.9968e-01,  1.7377e-02,  9.9985e-01,  1.2022e-02,\n",
      "          9.9993e-01,  8.3175e-03,  9.9997e-01,  5.7544e-03,  9.9998e-01,\n",
      "          3.9811e-03,  9.9999e-01,  2.7542e-03,  1.0000e+00,  1.9055e-03,\n",
      "          1.0000e+00,  1.3183e-03,  1.0000e+00,  9.1201e-04,  1.0000e+00,\n",
      "          6.3096e-04,  1.0000e+00,  4.3652e-04,  1.0000e+00,  3.0200e-04,\n",
      "          1.0000e+00,  2.0893e-04,  1.0000e+00,  1.4454e-04,  1.0000e+00],\n",
      "        [ 9.0930e-01, -4.1615e-01,  9.8254e-01,  1.8604e-01,  8.1762e-01,\n",
      "          5.7576e-01,  6.1490e-01,  7.8860e-01,  4.4231e-01,  8.9686e-01,\n",
      "          3.1170e-01,  9.5018e-01,  2.1754e-01,  9.7605e-01,  1.5113e-01,\n",
      "          9.8851e-01,  1.0477e-01,  9.9450e-01,  7.2552e-02,  9.9736e-01,\n",
      "          5.0217e-02,  9.9874e-01,  3.4749e-02,  9.9940e-01,  2.4043e-02,\n",
      "          9.9971e-01,  1.6635e-02,  9.9986e-01,  1.1509e-02,  9.9993e-01,\n",
      "          7.9621e-03,  9.9997e-01,  5.5084e-03,  9.9998e-01,  3.8109e-03,\n",
      "          9.9999e-01,  2.6365e-03,  1.0000e+00,  1.8240e-03,  1.0000e+00,\n",
      "          1.2619e-03,  1.0000e+00,  8.7303e-04,  1.0000e+00,  6.0399e-04,\n",
      "          1.0000e+00,  4.1786e-04,  1.0000e+00,  2.8909e-04,  1.0000e+00],\n",
      "        [ 1.4112e-01, -9.8999e-01,  8.7532e-01, -4.8354e-01,  9.9091e-01,\n",
      "          1.3450e-01,  8.3788e-01,  5.4585e-01,  6.3442e-01,  7.7299e-01,\n",
      "          4.5775e-01,  8.8908e-01,  3.2304e-01,  9.4638e-01,  2.2561e-01,\n",
      "          9.7422e-01,  1.5679e-01,  9.8763e-01,  1.0871e-01,  9.9407e-01,\n",
      "          7.5285e-02,  9.9716e-01,  5.2110e-02,  9.9864e-01,  3.6060e-02,\n",
      "          9.9935e-01,  2.4950e-02,  9.9969e-01,  1.7262e-02,  9.9985e-01,\n",
      "          1.1943e-02,  9.9993e-01,  8.2626e-03,  9.9997e-01,  5.7164e-03,\n",
      "          9.9998e-01,  3.9548e-03,  9.9999e-01,  2.7360e-03,  1.0000e+00,\n",
      "          1.8929e-03,  1.0000e+00,  1.3095e-03,  1.0000e+00,  9.0599e-04,\n",
      "          1.0000e+00,  6.2679e-04,  1.0000e+00,  4.3363e-04,  1.0000e+00],\n",
      "        [-7.5680e-01, -6.5364e-01,  3.6559e-01, -9.3078e-01,  9.4151e-01,\n",
      "         -3.3700e-01,  9.6983e-01,  2.4379e-01,  7.9338e-01,  6.0872e-01,\n",
      "          5.9234e-01,  8.0569e-01,  4.2466e-01,  9.0535e-01,  2.9880e-01,\n",
      "          9.5432e-01,  2.0838e-01,  9.7805e-01,  1.4472e-01,  9.8947e-01,\n",
      "          1.0031e-01,  9.9496e-01,  6.9456e-02,  9.9758e-01,  4.8072e-02,\n",
      "          9.9884e-01,  3.3264e-02,  9.9945e-01,  2.3016e-02,  9.9974e-01,\n",
      "          1.5924e-02,  9.9987e-01,  1.1017e-02,  9.9994e-01,  7.6218e-03,\n",
      "          9.9997e-01,  5.2730e-03,  9.9999e-01,  3.6480e-03,  9.9999e-01,\n",
      "          2.5238e-03,  1.0000e+00,  1.7461e-03,  1.0000e+00,  1.2080e-03,\n",
      "          1.0000e+00,  8.3572e-04,  1.0000e+00,  5.7818e-04,  1.0000e+00],\n",
      "        [-9.5892e-01,  2.8366e-01, -3.1225e-01, -9.5000e-01,  6.8050e-01,\n",
      "         -7.3275e-01,  9.9640e-01, -8.4758e-02,  9.1089e-01,  4.1265e-01,\n",
      "          7.1207e-01,  7.0211e-01,  5.2119e-01,  8.5344e-01,  3.7026e-01,\n",
      "          9.2893e-01,  2.5940e-01,  9.6577e-01,  1.8054e-01,  9.8357e-01,\n",
      "          1.2526e-01,  9.9212e-01,  8.6781e-02,  9.9623e-01,  6.0077e-02,\n",
      "          9.9819e-01,  4.1576e-02,  9.9914e-01,  2.8768e-02,  9.9959e-01,\n",
      "          1.9904e-02,  9.9980e-01,  1.3771e-02,  9.9991e-01,  9.5272e-03,\n",
      "          9.9995e-01,  6.5912e-03,  9.9998e-01,  4.5600e-03,  9.9999e-01,\n",
      "          3.1548e-03,  1.0000e+00,  2.1826e-03,  1.0000e+00,  1.5100e-03,\n",
      "          1.0000e+00,  1.0446e-03,  1.0000e+00,  7.2272e-04,  1.0000e+00],\n",
      "        [-2.7942e-01,  9.6017e-01, -8.4651e-01, -5.3237e-01,  2.6655e-01,\n",
      "         -9.6382e-01,  9.1472e-01, -4.0410e-01,  9.8080e-01,  1.9502e-01,\n",
      "          8.1396e-01,  5.8092e-01,  6.1145e-01,  7.9129e-01,  4.3959e-01,\n",
      "          8.9820e-01,  3.0971e-01,  9.5083e-01,  2.1613e-01,  9.7637e-01,\n",
      "          1.5014e-01,  9.8866e-01,  1.0408e-01,  9.9457e-01,  7.2073e-02,\n",
      "          9.9740e-01,  4.9885e-02,  9.9875e-01,  3.4520e-02,  9.9940e-01,\n",
      "          2.3884e-02,  9.9971e-01,  1.6525e-02,  9.9986e-01,  1.1433e-02,\n",
      "          9.9993e-01,  7.9095e-03,  9.9997e-01,  5.4720e-03,  9.9999e-01,\n",
      "          3.7857e-03,  9.9999e-01,  2.6191e-03,  1.0000e+00,  1.8120e-03,\n",
      "          1.0000e+00,  1.2536e-03,  1.0000e+00,  8.6726e-04,  1.0000e+00],\n",
      "        [ 6.5699e-01,  7.5390e-01, -9.9151e-01,  1.3006e-01, -2.0730e-01,\n",
      "         -9.7828e-01,  7.3365e-01, -6.7953e-01,  9.9946e-01, -3.2805e-02,\n",
      "          8.9544e-01,  4.4518e-01,  6.9436e-01,  7.1962e-01,  5.0640e-01,\n",
      "          8.6230e-01,  3.5916e-01,  9.3328e-01,  2.5143e-01,  9.6788e-01,\n",
      "          1.7493e-01,  9.8458e-01,  1.2135e-01,  9.9261e-01,  8.4059e-02,\n",
      "          9.9646e-01,  5.8191e-02,  9.9831e-01,  4.0270e-02,  9.9919e-01,\n",
      "          2.7864e-02,  9.9961e-01,  1.9278e-02,  9.9981e-01,  1.3338e-02,\n",
      "          9.9991e-01,  9.2277e-03,  9.9996e-01,  6.3840e-03,  9.9998e-01,\n",
      "          4.4167e-03,  9.9999e-01,  3.0556e-03,  1.0000e+00,  2.1140e-03,\n",
      "          1.0000e+00,  1.4625e-03,  1.0000e+00,  1.0118e-03,  1.0000e+00],\n",
      "        [ 9.8936e-01, -1.4550e-01, -6.8057e-01,  7.3269e-01, -6.3457e-01,\n",
      "         -7.7287e-01,  4.7287e-01, -8.8113e-01,  9.6590e-01, -2.5891e-01,\n",
      "          9.5448e-01,  2.9827e-01,  7.6894e-01,  6.3932e-01,  5.7029e-01,\n",
      "          8.2144e-01,  4.0762e-01,  9.1315e-01,  2.8640e-01,  9.5811e-01,\n",
      "          1.9960e-01,  9.7988e-01,  1.3858e-01,  9.9035e-01,  9.6033e-02,\n",
      "          9.9538e-01,  6.6492e-02,  9.9779e-01,  4.6019e-02,  9.9894e-01,\n",
      "          3.1843e-02,  9.9949e-01,  2.2032e-02,  9.9976e-01,  1.5243e-02,\n",
      "          9.9988e-01,  1.0546e-02,  9.9994e-01,  7.2960e-03,  9.9997e-01,\n",
      "          5.0476e-03,  9.9999e-01,  3.4921e-03,  9.9999e-01,  2.4160e-03,\n",
      "          1.0000e+00,  1.6714e-03,  1.0000e+00,  1.1564e-03,  1.0000e+00],\n",
      "        [ 4.1212e-01, -9.1113e-01, -5.6676e-02,  9.9839e-01, -9.1921e-01,\n",
      "         -3.9376e-01,  1.6071e-01, -9.8700e-01,  8.8187e-01, -4.7149e-01,\n",
      "          9.8959e-01,  1.4389e-01,  8.3428e-01,  5.5134e-01,  6.3091e-01,\n",
      "          7.7586e-01,  4.5496e-01,  8.9051e-01,  3.2099e-01,  9.4708e-01,\n",
      "          2.2415e-01,  9.7455e-01,  1.5577e-01,  9.8779e-01,  1.0799e-01,\n",
      "          9.9415e-01,  7.4789e-02,  9.9720e-01,  5.1766e-02,  9.9866e-01,\n",
      "          3.5822e-02,  9.9936e-01,  2.4786e-02,  9.9969e-01,  1.7148e-02,\n",
      "          9.9985e-01,  1.1864e-02,  9.9993e-01,  8.2080e-03,  9.9997e-01,\n",
      "          5.6786e-03,  9.9998e-01,  3.9286e-03,  9.9999e-01,  2.7180e-03,\n",
      "          1.0000e+00,  1.8804e-03,  1.0000e+00,  1.3009e-03,  1.0000e+00],\n",
      "        [-5.4402e-01, -8.3907e-01,  5.9328e-01,  8.0500e-01, -9.9727e-01,\n",
      "          7.3845e-02, -1.6891e-01, -9.8563e-01,  7.5176e-01, -6.5944e-01,\n",
      "          9.9990e-01, -1.4096e-02,  8.8960e-01,  4.5673e-01,  6.8789e-01,\n",
      "          7.2582e-01,  5.0105e-01,  8.6542e-01,  3.5515e-01,  9.3481e-01,\n",
      "          2.4856e-01,  9.6862e-01,  1.7291e-01,  9.8494e-01,  1.1994e-01,\n",
      "          9.9278e-01,  8.3081e-02,  9.9654e-01,  5.7512e-02,  9.9834e-01,\n",
      "          3.9800e-02,  9.9921e-01,  2.7539e-02,  9.9962e-01,  1.9053e-02,\n",
      "          9.9982e-01,  1.3182e-02,  9.9991e-01,  9.1200e-03,  9.9996e-01,\n",
      "          6.3095e-03,  9.9998e-01,  4.3651e-03,  9.9999e-01,  3.0199e-03,\n",
      "          1.0000e+00,  2.0893e-03,  1.0000e+00,  1.4454e-03,  1.0000e+00],\n",
      "        [-9.9999e-01,  4.4257e-03,  9.7042e-01,  2.4143e-01, -8.5119e-01,\n",
      "          5.2485e-01, -4.8017e-01, -8.7717e-01,  5.8237e-01, -8.1293e-01,\n",
      "          9.8514e-01, -1.7173e-01,  9.3424e-01,  3.5664e-01,  7.4092e-01,\n",
      "          6.7160e-01,  5.4575e-01,  8.3795e-01,  3.8885e-01,  9.2130e-01,\n",
      "          2.7281e-01,  9.6207e-01,  1.9000e-01,  9.8178e-01,  1.3186e-01,\n",
      "          9.9127e-01,  9.1366e-02,  9.9582e-01,  6.3256e-02,  9.9800e-01,\n",
      "          4.3778e-02,  9.9904e-01,  3.0292e-02,  9.9954e-01,  2.0959e-02,\n",
      "          9.9978e-01,  1.4500e-02,  9.9989e-01,  1.0032e-02,  9.9995e-01,\n",
      "          6.9405e-03,  9.9998e-01,  4.8017e-03,  9.9999e-01,  3.3219e-03,\n",
      "          9.9999e-01,  2.2982e-03,  1.0000e+00,  1.5900e-03,  1.0000e+00],\n",
      "        [-5.3657e-01,  8.4385e-01,  9.0132e-01, -4.3316e-01, -5.1381e-01,\n",
      "          8.5790e-01, -7.3927e-01, -6.7341e-01,  3.8255e-01, -9.2394e-01,\n",
      "          9.4569e-01, -3.2506e-01,  9.6766e-01,  2.5227e-01,  7.8968e-01,\n",
      "          6.1351e-01,  5.8896e-01,  8.0816e-01,  4.2204e-01,  9.0658e-01,\n",
      "          2.9688e-01,  9.5491e-01,  2.0703e-01,  9.7834e-01,  1.4377e-01,\n",
      "          9.8961e-01,  9.9646e-02,  9.9502e-01,  6.8998e-02,  9.9762e-01,\n",
      "          4.7755e-02,  9.9886e-01,  3.3045e-02,  9.9945e-01,  2.2864e-02,\n",
      "          9.9974e-01,  1.5818e-02,  9.9987e-01,  1.0944e-02,  9.9994e-01,\n",
      "          7.5714e-03,  9.9997e-01,  5.2382e-03,  9.9999e-01,  3.6239e-03,\n",
      "          9.9999e-01,  2.5072e-03,  1.0000e+00,  1.7345e-03,  1.0000e+00],\n",
      "        [ 4.2017e-01,  9.0745e-01,  4.1776e-01, -9.0856e-01, -6.0956e-02,\n",
      "          9.9814e-01, -9.1804e-01, -3.9648e-01,  1.6274e-01, -9.8667e-01,\n",
      "          8.8254e-01, -4.7024e-01,  9.8945e-01,  1.4486e-01,  8.3391e-01,\n",
      "          5.5190e-01,  6.3054e-01,  7.7616e-01,  4.5467e-01,  8.9066e-01,\n",
      "          3.2077e-01,  9.4716e-01,  2.2400e-01,  9.7459e-01,  1.5566e-01,\n",
      "          9.8781e-01,  1.0792e-01,  9.9416e-01,  7.4737e-02,  9.9720e-01,\n",
      "          5.1731e-02,  9.9866e-01,  3.5797e-02,  9.9936e-01,  2.4768e-02,\n",
      "          9.9969e-01,  1.7136e-02,  9.9985e-01,  1.1856e-02,  9.9993e-01,\n",
      "          8.2024e-03,  9.9997e-01,  5.6747e-03,  9.9998e-01,  3.9259e-03,\n",
      "          9.9999e-01,  2.7161e-03,  1.0000e+00,  1.8791e-03,  1.0000e+00],\n",
      "        [ 9.9061e-01,  1.3674e-01, -2.5791e-01, -9.6617e-01,  4.0560e-01,\n",
      "          9.1405e-01, -9.9707e-01, -7.6478e-02, -6.5575e-02, -9.9785e-01,\n",
      "          7.9726e-01, -6.0364e-01,  9.9936e-01,  3.5719e-02,  8.7334e-01,\n",
      "          4.8712e-01,  6.7039e-01,  7.4201e-01,  4.8670e-01,  8.7357e-01,\n",
      "          3.4446e-01,  9.3880e-01,  2.4090e-01,  9.7055e-01,  1.6752e-01,\n",
      "          9.8587e-01,  1.1618e-01,  9.9323e-01,  8.0474e-02,  9.9676e-01,\n",
      "          5.5706e-02,  9.9845e-01,  3.8550e-02,  9.9926e-01,  2.6673e-02,\n",
      "          9.9964e-01,  1.8455e-02,  9.9983e-01,  1.2768e-02,  9.9992e-01,\n",
      "          8.8333e-03,  9.9996e-01,  6.1112e-03,  9.9998e-01,  4.2279e-03,\n",
      "          9.9999e-01,  2.9250e-03,  1.0000e+00,  2.0236e-03,  1.0000e+00],\n",
      "        [ 6.5029e-01, -7.5969e-01, -8.1498e-01, -5.7950e-01,  7.8100e-01,\n",
      "          6.2453e-01, -9.6777e-01,  2.5184e-01, -2.9046e-01, -9.5689e-01,\n",
      "          6.9200e-01, -7.2190e-01,  9.9727e-01, -7.3854e-02,  9.0774e-01,\n",
      "          4.1953e-01,  7.0839e-01,  7.0582e-01,  5.1809e-01,  8.5533e-01,\n",
      "          3.6793e-01,  9.2985e-01,  2.5773e-01,  9.6622e-01,  1.7936e-01,\n",
      "          9.8378e-01,  1.2444e-01,  9.9223e-01,  8.6209e-02,  9.9628e-01,\n",
      "          5.9681e-02,  9.9822e-01,  4.1302e-02,  9.9915e-01,  2.8578e-02,\n",
      "          9.9959e-01,  1.9773e-02,  9.9980e-01,  1.3680e-02,  9.9991e-01,\n",
      "          9.4642e-03,  9.9996e-01,  6.5477e-03,  9.9998e-01,  4.5299e-03,\n",
      "          9.9999e-01,  3.1339e-03,  1.0000e+00,  2.1682e-03,  1.0000e+00],\n",
      "        [-2.8790e-01, -9.5766e-01, -9.9728e-01,  7.3655e-02,  9.8087e-01,\n",
      "          1.9465e-01, -8.3332e-01,  5.5279e-01, -5.0017e-01, -8.6593e-01,\n",
      "          5.6939e-01, -8.2207e-01,  9.8320e-01, -1.8254e-01,  9.3692e-01,\n",
      "          3.4953e-01,  7.4444e-01,  6.6769e-01,  5.4880e-01,  8.3596e-01,\n",
      "          3.9117e-01,  9.2032e-01,  2.7448e-01,  9.6159e-01,  1.9118e-01,\n",
      "          9.8156e-01,  1.3269e-01,  9.9116e-01,  9.1940e-02,  9.9576e-01,\n",
      "          6.3654e-02,  9.9797e-01,  4.4053e-02,  9.9903e-01,  3.0483e-02,\n",
      "          9.9954e-01,  2.1091e-02,  9.9978e-01,  1.4592e-02,  9.9989e-01,\n",
      "          1.0095e-02,  9.9995e-01,  6.9842e-03,  9.9998e-01,  4.8319e-03,\n",
      "          9.9999e-01,  3.3429e-03,  9.9999e-01,  2.3127e-03,  1.0000e+00],\n",
      "        [-9.6140e-01, -2.7516e-01, -7.2100e-01,  6.9294e-01,  9.6030e-01,\n",
      "         -2.7898e-01, -6.0833e-01,  7.9368e-01, -6.8375e-01, -7.2972e-01,\n",
      "          4.3251e-01, -9.0163e-01,  9.5732e-01, -2.8903e-01,  9.6072e-01,\n",
      "          2.7752e-01,  7.7844e-01,  6.2772e-01,  5.7878e-01,  8.1548e-01,\n",
      "          4.1416e-01,  9.1020e-01,  2.9115e-01,  9.5668e-01,  2.0296e-01,\n",
      "          9.7919e-01,  1.4093e-01,  9.9002e-01,  9.7669e-02,  9.9522e-01,\n",
      "          6.7627e-02,  9.9771e-01,  4.6805e-02,  9.9890e-01,  3.2387e-02,\n",
      "          9.9948e-01,  2.2408e-02,  9.9975e-01,  1.5504e-02,  9.9988e-01,\n",
      "          1.0726e-02,  9.9994e-01,  7.4207e-03,  9.9997e-01,  5.1339e-03,\n",
      "          9.9999e-01,  3.5518e-03,  9.9999e-01,  2.4572e-03,  1.0000e+00],\n",
      "        [-7.5099e-01,  6.6032e-01, -1.1317e-01,  9.9358e-01,  7.2390e-01,\n",
      "         -6.8991e-01, -3.1725e-01,  9.4834e-01, -8.3159e-01, -5.5539e-01,\n",
      "          2.8479e-01, -9.5859e-01,  9.1994e-01, -3.9206e-01,  9.7899e-01,\n",
      "          2.0392e-01,  8.1029e-01,  5.8602e-01,  6.0800e-01,  7.9394e-01,\n",
      "          4.3689e-01,  8.9951e-01,  3.0773e-01,  9.5147e-01,  2.1472e-01,\n",
      "          9.7668e-01,  1.4916e-01,  9.8881e-01,  1.0339e-01,  9.9464e-01,\n",
      "          7.1598e-02,  9.9743e-01,  4.9556e-02,  9.9877e-01,  3.4292e-02,\n",
      "          9.9941e-01,  2.3726e-02,  9.9972e-01,  1.6415e-02,  9.9987e-01,\n",
      "          1.1357e-02,  9.9994e-01,  7.8572e-03,  9.9997e-01,  5.4359e-03,\n",
      "          9.9999e-01,  3.7607e-03,  9.9999e-01,  2.6018e-03,  1.0000e+00],\n",
      "        [ 1.4988e-01,  9.8870e-01,  5.4670e-01,  8.3733e-01,  3.2481e-01,\n",
      "         -9.4578e-01,  8.3061e-03,  9.9997e-01, -9.3599e-01, -3.5203e-01,\n",
      "          1.2993e-01, -9.9152e-01,  8.7152e-01, -4.9037e-01,  9.9163e-01,\n",
      "          1.2914e-01,  8.3992e-01,  5.4271e-01,  6.3642e-01,  7.7134e-01,\n",
      "          4.5935e-01,  8.8826e-01,  3.2422e-01,  9.4598e-01,  2.2645e-01,\n",
      "          9.7402e-01,  1.5738e-01,  9.8754e-01,  1.0912e-01,  9.9403e-01,\n",
      "          7.5568e-02,  9.9714e-01,  5.2306e-02,  9.9863e-01,  3.6196e-02,\n",
      "          9.9934e-01,  2.5044e-02,  9.9969e-01,  1.7327e-02,  9.9985e-01,\n",
      "          1.1988e-02,  9.9993e-01,  8.2937e-03,  9.9997e-01,  5.7379e-03,\n",
      "          9.9998e-01,  3.9697e-03,  9.9999e-01,  2.7463e-03,  1.0000e+00]])\n"
     ]
    },
    {
     "data": {
      "image/png": "[encoded data removed]",
      "text/plain": [
       "<Figure size 640x480 with 2 Axes>"
      ]
     },
     "metadata": {},
     "output_type": "display_data"
    }
   ],
   "source": [
    "T_pos_encoding = get_positional_encoding(20, 50)\n",
    "print(T_pos_encoding.shape)\n",
    "print(T_pos_encoding)\n",
    "\n",
    "plt.pcolormesh(T_pos_encoding, cmap='RdBu')\n",
    "plt.xlabel('d')\n",
    "plt.xlim((0, 50))\n",
    "plt.ylabel('Position')\n",
    "plt.colorbar()\n",
    "plt.show()"
   ]
  },
  {
   "cell_type": "code",
   "execution_count": 13,
   "id": "d1a54abd",
   "metadata": {},
   "outputs": [
    {
     "name": "stdout",
     "output_type": "stream",
     "text": [
      "torch.Size([4, 4])\n",
      "tensor([[False,  True,  True,  True],\n",
      "        [False, False,  True,  True],\n",
      "        [False, False, False,  True],\n",
      "        [False, False, False, False]])\n"
     ]
    }
   ],
   "source": [
    "\n",
    "def create_padding_mask(seq):\n",
    "    \"\"\"Create padding mask: True for padding positions\"\"\"\n",
    "    return seq == PAD_ID\n",
    "def create_look_ahead_mask(size):\n",
    "    \"\"\"Create look_ahead mask for decoder\"\"\"\n",
    "    mask = torch.triu(torch.ones(size, size,), diagonal=1)\n",
    "    return mask.bool()\n",
    "l=create_look_ahead_mask(4)\n",
    "print(l.shape)\n",
    "print(l)"
   ]
  },
  {
   "cell_type": "code",
   "execution_count": null,
   "id": "31bdc20b",
   "metadata": {},
   "outputs": [],
   "source": [
    "class MultiHeadAttention(nn.Module):\n",
    "    def __init__(self, d_model, num_heads, dropout=0.1):\n",
    "        super()._init_()\n",
    "        assert d_model % num_heads == 0\n",
    "        self.d_model = d_model\n",
    "        self.num_heads = num_heads\n",
    "        self.d_k = d_model // num_heads\n",
    "        self.W_q = nn.Linear(d_model, d_model)\n",
    "        self.W_k = nn.Linear(d_model, d_model)\n",
    "        self.W_v = nn.Linear(d_model, d_model)\n",
    "        self.W_o = nn.Linear(d_model, d_model)\n",
    "        self.dropout = nn.Dropout(dropout)\n",
    "    \n",
    "    def split_heads(self, x):\n",
    "        batch_size, seq_len, d_model = x.size()\n",
    "        x = x.view(batch_size, seq_len, self.num_heads, self.d_k)\n",
    "        return x.transpose(1, 2)\n",
    "    \n",
    "    def scaled_dot_product_attention(self, Q, K, V, mask=None):\n",
    "        scores = torch.matmul(Q, K.transpose(-2, -1)) / math.sqrt(self.d_k)\n",
    "        if mask is not None:\n",
    "            scores = scores.masked_fill(mask == 0, -1e9)\n",
    "        attention_weights = F.softmax(scores, dim=-1)\n",
    "        attention_weights = self.dropout(attention_weights)\n",
    "        output = torch.matmul(attention_weights, V)\n",
    "        return output, attention_weights\n",
    "    \n",
    "    def forward(self, query, key, value, mask=None):\n",
    "        batch_size = query.size(0)\n",
    "        Q = self.split_heads(self.W_q(query))\n",
    "        K = self.split_heads(self.W_k(key))\n",
    "        V = self.split_heads(self.W_v(value))\n",
    "        attn_output, _ = self.scaled_dot_product_attention(Q, K, V, mask)\n",
    "        attn_output = attn_output.transpose(1, 2).contiguous()\n",
    "        attn_output = attn_output.view(batch_size, -1, self.d_model)\n",
    "        output = self.W_o(attn_output)\n",
    "        return output\n"
   ]
  },
  {
   "cell_type": "code",
   "execution_count": 14,
   "id": "2057a123",
   "metadata": {},
   "outputs": [],
   "source": [
    "\n",
    "def FullyConnected(embedding_dim,fully_connected_dim,dropout=0.1):\n",
    "    return nn.Sequential(\n",
    "        nn.Linear(embedding_dim,fully_connected_dim),\n",
    "        nn.ReLU(),\n",
    "        nn.Dropout(dropout),\n",
    "        nn.Linear(fully_connected_dim,embedding_dim)\n",
    "    )"
   ]
  },
  {
   "cell_type": "markdown",
   "id": "738a3bc0",
   "metadata": {},
   "source": [
    "<center><img src=\"img/encoder_layer.png\" alt=\"Encoder\" width=\"400\"/></center>\n",
    "\n",
    "<center><caption><b>Transformer encoder layer</caption></center>\n"
   ]
  },
  {
   "cell_type": "code",
   "execution_count": 15,
   "id": "d2ed66fa",
   "metadata": {},
   "outputs": [],
   "source": [
    "class EncoderLayer(nn.Module):\n",
    "    def __init__(self,embedding_dim,num_heads,ffn_dim,dropout_rate=0.1,layernorm_eps=1e-6):\n",
    "        super().__init__()\n",
    "        self.mha=nn.MultiheadAttention(embed_dim=embedding_dim,num_heads=num_heads,dropout=dropout_rate,batch_first=True)\n",
    "        self.ffn=FullyConnected(embedding_dim,ffn_dim)\n",
    "        self.layernorm1=nn.LayerNorm(embedding_dim,eps=layernorm_eps)\n",
    "        self.layernorm2=nn.LayerNorm(embedding_dim,eps=layernorm_eps)\n",
    "        self.dropout_attn = nn.Dropout(dropout_rate)\n",
    "        self.dropout_ffn=nn.Dropout(dropout_rate)\n",
    "\n",
    "    def forward(self,x, mask):\n",
    "        \"\"\"\n",
    "        Forward pass for the Encoder Layer    \n",
    "        Arguments:\n",
    "            x -- Tensor of shape (batch_size, input_seq_len, embedding_dim)\n",
    "            mask -- Boolean mask to ensure that the padding is not \n",
    "                    treated as part of the input\n",
    "        Returns:\n",
    "            encoder_layer_out -- Tensor of shape (batch_size, input_seq_len, embedding_dim)\n",
    "        \"\"\"\n",
    "        attn_output,_=self.mha(query=x,value=x,key=x,key_padding_mask=mask)# (batch_size, input_seq_len, embedding_dim)\n",
    "        attn_output = self.dropout_attn(attn_output)\n",
    "        skip_x_attn=self.layernorm1(x+attn_output)\n",
    "\n",
    "        ffn_output=self.ffn(skip_x_attn)\n",
    "        ffn_output=self.dropout_ffn(ffn_output)\n",
    "\n",
    "        out=self.layernorm2(ffn_output+skip_x_attn)\n",
    "        return out"
   ]
  },
  {
   "cell_type": "markdown",
   "id": "8c6acfc0",
   "metadata": {},
   "source": [
    "<center><img src=\"img/encoder.png\" alt=\"Encoder\" width=\"400\"/></center>\n",
    "\n",
    "<center><caption><b>Full encoder</caption></center>\n"
   ]
  },
  {
   "cell_type": "code",
   "execution_count": 16,
   "id": "4466e58b",
   "metadata": {},
   "outputs": [],
   "source": [
    "class Encoder(nn.Module):\n",
    "    def __init__(self,num_layers, embedding_dim, num_heads, ffn_dim, input_vocab_size,max_seq_len, dropout_rate=0.1, padding_id=0):\n",
    "        super().__init__()\n",
    "        self.embedding_dim=embedding_dim\n",
    "        self.num_layers=num_layers\n",
    "        self.embedding= nn.Embedding(input_vocab_size,embedding_dim,padding_idx=padding_id)\n",
    "        self.pos_encoding= get_positional_encoding(max_seq_len,embedding_dim)\n",
    "        \n",
    "        self.enc_layers=nn.ModuleList([\n",
    "            EncoderLayer(embedding_dim,num_heads,ffn_dim,dropout_rate) for _ in range(num_layers) \n",
    "        ])\n",
    "        self.dropout= nn.Dropout(dropout_rate)\n",
    "        self.scale_dm = torch.sqrt(torch.tensor(self.embedding_dim))\n",
    "    def forward(self,x,padding_mask):\n",
    "         \"\"\"\n",
    "        Arguments:\n",
    "            x: Tensor of shape (batch_size, input_seq_len)\n",
    "            mask: key padding mask of shape (batch_size, input_seq_len)\n",
    "        Returns:\n",
    "            output: Tensor of shape (batch_size, input_seq_len, embedding_dim)\n",
    "        \"\"\"\n",
    "         seq_len=x.shape[1]\n",
    "         x=self.embedding(x)*self.scale_dm\n",
    "         pos_enc=self.pos_encoding[:seq_len,:].to(x.device)\n",
    "         x=self.dropout(x+pos_enc)\n",
    "\n",
    "         for i in range(self.num_layers):\n",
    "             x=self.enc_layers[i](x,padding_mask)\n",
    "        \n",
    "         return x"
   ]
  },
  {
   "cell_type": "markdown",
   "id": "3442a0e5",
   "metadata": {},
   "source": [
    "<center><img src=\"img/decoder_layer.png\"  width=\"300\"/></center>\n",
    "\n",
    "<center><caption><b>Transformer decoder layer</caption></center>\n"
   ]
  },
  {
   "cell_type": "code",
   "execution_count": null,
   "id": "db459240",
   "metadata": {},
   "outputs": [],
   "source": [
    "class DecoderLayer(nn.Module):\n",
    "    def __init__(self,embedding_dim,num_heads,ffn_dim,dropout_rate=0.1,layernorm_eps=1e-6):\n",
    "        super().__init__()\n",
    "        self.mha1=nn.MultiheadAttention(embedding_dim,num_heads,dropout=dropout_rate,batch_first=True)\n",
    "        self.mha2=nn.MultiheadAttention(embedding_dim,num_heads,dropout=dropout_rate,batch_first=True)\n",
    "        self.ffn=FullyConnected(embedding_dim,ffn_dim)\n",
    "        \n",
    "        self.layernorm1=nn.LayerNorm(embedding_dim,eps=layernorm_eps)\n",
    "        self.layernorm2=nn.LayerNorm(embedding_dim,eps=layernorm_eps)\n",
    "        self.layernorm3=nn.LayerNorm(embedding_dim,eps=layernorm_eps)\n",
    "\n",
    "        self.dropout1=nn.Dropout(dropout_rate)\n",
    "        self.dropout2=nn.Dropout(dropout_rate)\n",
    "        self.dropout3=nn.Dropout(dropout_rate)\n",
    "    def forward(self,x,enc_out,look_ahead_mask,padding_mask):\n",
    "        \n",
    "        masked_att,_=self.mha1(query=x,key=x,value=x,attn_mask=look_ahead_mask)\n",
    "        out1 = self.layernorm1( x + self.dropout1(masked_att))\n",
    "\n",
    "        cross_att,_=self.mha2(query=out1,key=enc_out,value=enc_out,key_padding_mask=padding_mask)\n",
    "        out2=self.layernorm2(out1+self.dropout2(cross_att))\n",
    "\n",
    "        ffn_out=self.ffn(out2)\n",
    "        out3=self.layernorm3(out2+self.dropout3(ffn_out))\n",
    "\n",
    "        return out3\n",
    "        "
   ]
  },
  {
   "cell_type": "markdown",
   "id": "fdf9a705",
   "metadata": {},
   "source": [
    "<center><img src=\"img/decoder.png\"  width=\"300\"/></center>\n",
    "\n",
    "<center><caption><b>Full decoder</caption></center>\n"
   ]
  },
  {
   "cell_type": "code",
   "execution_count": 18,
   "id": "01ace956",
   "metadata": {},
   "outputs": [],
   "source": [
    "class Decoder(nn.Module):\n",
    "    def __init__(self,num_layers,embedding_dim,num_heads,ffn_dim,target_vocab_size,max_seq_len,dropout_rate=0.1, padding_id=0):\n",
    "        super().__init__()\n",
    "        self.num_layers=num_layers\n",
    "        self.embedding_dim=embedding_dim\n",
    "        self.embedding=nn.Embedding(target_vocab_size,embedding_dim,padding_idx=padding_id)\n",
    "        self.pos_encoding=get_positional_encoding(max_seq_len,embedding_dim)\n",
    "        self.dec_layers=nn.ModuleList([\n",
    "            DecoderLayer(embedding_dim,num_heads,ffn_dim,dropout_rate) for _ in range(num_layers)\n",
    "        ])\n",
    "        self.dropout=nn.Dropout(dropout_rate)\n",
    "        self.scale_dm = torch.sqrt(torch.tensor(self.embedding_dim))\n",
    "    def forward(self,x, enc_output,look_ahead_mask, padding_mask):\n",
    "        \"\"\"\n",
    "        Forward  pass for the Decoder\n",
    "        \n",
    "        Arguments:\n",
    "            x -- Tensor of shape (batch_size, target_seq_len)\n",
    "            enc_output --  Tensor of shape(batch_size, input_seq_len, embedding_dim)\n",
    "            look_ahead_mask -- Boolean mask for the target_input (batch_size, tgt_seq_len, tgt_seq_len)\n",
    "            padding_mask -- Boolean mask for the second multihead attention layer (batch_size, src_seq_len)\n",
    "        Returns:\n",
    "            x -- Tensor of shape (batch_size, target_seq_len, embedding_dim)\n",
    "        \"\"\"\n",
    "        seq_len=x.shape[1]\n",
    "        x=self.embedding(x)* self.scale_dm\n",
    "        pos_enc=self.pos_encoding[:seq_len,:].to(x.device)\n",
    "        x=self.dropout(x+pos_enc)\n",
    "        for i in range(self.num_layers):\n",
    "            x= self.dec_layers[i](x,enc_output,look_ahead_mask,padding_mask)\n",
    "\n",
    "        return x"
   ]
  },
  {
   "cell_type": "markdown",
   "id": "b447b5e7",
   "metadata": {},
   "source": [
    "<center><img src=\"img/transformer.png\"  width=\"400\"/></center>\n",
    "\n",
    "<center><caption><b>Full decoder</caption></center>\n"
   ]
  },
  {
   "cell_type": "code",
   "execution_count": 19,
   "metadata": {},
   "outputs": [],
   "source": [
    "class Transformer(nn.Module):\n",
    "    def __init__(self,vocab_size=256,max_seq_len=100,padding_idx=0):\n",
    "        super().__init__()\n",
    "        self.encoder=Encoder(num_layers=2,embedding_dim=256,num_heads=4,ffn_dim=1024,input_vocab_size=vocab_size,max_seq_len=max_seq_len,padding_id=padding_idx)\n",
    "        self.decoder=Decoder(num_layers=2,embedding_dim=256,num_heads=4,ffn_dim=1024,target_vocab_size=vocab_size,max_seq_len=max_seq_len,padding_id=padding_idx)\n",
    "        self.final_layer=nn.Linear(in_features=256,out_features=vocab_size)\n",
    "\n",
    "    def forward(self,src,tgt,padding_mask,tgt_look_ahead_mask,teacher_forcing=0):\n",
    "\n",
    "        batch_len,tgt_len = tgt.shape\n",
    "        dec_input= tgt[:,0:1]\n",
    "\n",
    "        enc_output =self.encoder(src,padding_mask)    \n",
    "\n",
    "        outputs=[]\n",
    "        for i in range(0,tgt_len):\n",
    "            \n",
    "            tgt_look_ahead_mask =create_look_ahead_mask(dec_input.size(1))\n",
    "            dec_out=self.decoder(dec_input,enc_output,tgt_look_ahead_mask,padding_mask)\n",
    "            pred=self.final_layer(dec_out)\n",
    "\n",
    "            outputs.append(pred[:,-1:,:])\n",
    "\n",
    "            if i<tgt_len-1:\n",
    "\n",
    "                tf=torch.rand(batch_len,1)<teacher_forcing\n",
    "                pred_t= pred[:,-1:,:].argmax(dim=-1)\n",
    "                ground_t=tgt[:,i+1:i+2]\n",
    "                next_t=torch.where(tf,ground_t,pred_t)\n",
    "\n",
    "                dec_input= torch.cat([dec_input,next_t],dim=1)\n",
    "\n",
    "        output=torch.cat(outputs,dim=1)\n",
    "        return output\n",
    "\n",
    "        "
   ]
  },
  {
   "cell_type": "markdown",
   "id": "d6ee15ac",
   "metadata": {},
   "source": [
    "# --------------------TRAINING-TEST CODE--------------------------"
   ]
  },
  {
   "cell_type": "code",
   "execution_count": 20,
   "id": "e46bf0bf",
   "metadata": {},
   "outputs": [],
   "source": [
    "def train_epoch(model,dataloader,criterian,optimizer,teacher_forcing=1.0):\n",
    "    model.train()\n",
    "    total_loss=0\n",
    "\n",
    "    progress_bar=tqdm(dataloader,desc=f\"Training (TF={teacher_forcing})\")\n",
    "\n",
    "    for batch in progress_bar:\n",
    "        input_ids = batch['input_ids']\n",
    "        target_ids = batch['target_ids']\n",
    "\n",
    "        decoder_input = target_ids[:, :-1]\n",
    "        decoder_target = target_ids[:, 1:]\n",
    "                \n",
    "        padding_mask=create_padding_mask(input_ids)\n",
    "        tgt_look_ahead_mask=create_look_ahead_mask(decoder_input.size(1))\n",
    "\n",
    "        optimizer.zero_grad()\n",
    "        output= model(input_ids,decoder_input,padding_mask,tgt_look_ahead_mask,teacher_forcing=teacher_forcing)\n",
    "\n",
    "\n",
    "        loss = criterian(output.reshape(-1,output.size(-1)),decoder_target.reshape(-1))\n",
    "        loss.backward()\n",
    "        torch.nn.utils.clip_grad_norm_(model.parameters(),1.0)\n",
    "        optimizer.step()\n",
    "        total_loss += loss.item()\n",
    "        progress_bar.set_postfix({'Train loss': loss.item()})\n",
    "\n",
    "    return total_loss / len(dataloader)\n",
    "        \n",
    "        "
   ]
  },
  {
   "cell_type": "code",
   "execution_count": 21,
   "id": "f8399697",
   "metadata": {},
   "outputs": [],
   "source": [
    "def calculate_bleu(predictions, references):\n",
    "    \"\"\"Calculate BLEU score\"\"\"\n",
    "    bleu = BLEU()\n",
    "    score = bleu.corpus_score(predictions, [references])\n",
    "    return score.score\n",
    "\n",
    "def calculate_rouge_l(predictions, references):\n",
    "    \"\"\"Calculate ROUGE-L score\"\"\"\n",
    "    scorer = rouge_scorer.RougeScorer(['rougeL'], use_stemmer=False)\n",
    "    scores = []\n",
    "    for pred, ref in zip(predictions, references):\n",
    "        score = scorer.score(ref, pred)\n",
    "        scores.append(score['rougeL'].fmeasure)\n",
    "    return np.mean(scores) * 100\n",
    "\n",
    "def calculate_chrf(predictions, references):\n",
    "    \"\"\"Calculate chrF score\"\"\"\n",
    "    chrf = CHRF()\n",
    "    score = chrf.corpus_score(predictions, [references])\n",
    "    return score.score\n",
    "\n",
    "def calculate_perplexity(loss):\n",
    "    \"\"\"Calculate perplexity from loss\"\"\"\n",
    "    return math.exp(min(loss, 100))"
   ]
  },
  {
   "cell_type": "code",
   "execution_count": 27,
   "id": "5dfe0845",
   "metadata": {},
   "outputs": [],
   "source": [
    "def evaluate(model, dataloader, criterian):\n",
    "    model.eval()\n",
    "    total_loss = 0\n",
    "    predictions = []\n",
    "    references = []\n",
    "\n",
    "    with torch.no_grad():\n",
    "        progress_bar = tqdm(dataloader, desc=\"Evaluating (no teacher forcing)\")\n",
    "        for batch in progress_bar:\n",
    "            input_ids = batch['input_ids']\n",
    "            target_ids = batch['target_ids']\n",
    "\n",
    "            decoder_input = target_ids[:, :-1]\n",
    "            decoder_target = target_ids[:, 1:]\n",
    "\n",
    "            padding_mask = create_padding_mask(input_ids)\n",
    "            tgt_look_ahead_mask = create_look_ahead_mask(decoder_input.size(1))\n",
    "\n",
    "            output = model(input_ids, decoder_input, padding_mask, tgt_look_ahead_mask, teacher_forcing=0)\n",
    "            loss = criterian(output.reshape(-1, output.size(-1)), decoder_target.reshape(-1))\n",
    "\n",
    "            total_loss += loss.item()\n",
    "            progress_bar.set_postfix({'val loss': loss.item()})\n",
    "\n",
    "            # Decode predictions and references for metrics\n",
    "            pred_ids = output.argmax(dim=-1).cpu().tolist()\n",
    "            tgt_ids = decoder_target.cpu().tolist()\n",
    "            for pred, ref in zip(pred_ids, tgt_ids):\n",
    "                pred_text = tokenizer.decode(pred)\n",
    "                ref_text = tokenizer.decode(ref)\n",
    "                predictions.append(pred_text)\n",
    "                references.append(ref_text)\n",
    "\n",
    "    avg_loss = total_loss / len(dataloader)\n",
    "\n",
    "    bleu_score = calculate_bleu(predictions, references)\n",
    "    rouge_score = calculate_rouge_l(predictions, references)\n",
    "    chrf_score = calculate_chrf(predictions, references)\n",
    "    perplexity = calculate_perplexity(avg_loss)\n",
    "\n",
    "    print(\"\\nEvaluation Results:\")\n",
    "    print(\"  Val Loss: \",avg_loss)\n",
    "    print(\"  BLEU: \",bleu_score)\n",
    "    print(\"  ROUGE-L: \",rouge_score)\n",
    "    print(\"  chrF: \",chrf_score)\n",
    "    print(\"  Perplexity: \",perplexity)\n",
    "\n",
    "\n",
    "    return {\n",
    "        'predictions': predictions[:10],\n",
    "        'references': references[:10]\n",
    "    }"
   ]
  },
  {
   "cell_type": "code",
   "execution_count": 24,
   "id": "7a57f71d",
   "metadata": {},
   "outputs": [
    {
     "name": "stdout",
     "output_type": "stream",
     "text": [
      "Model parameters: 3,883,264\n"
     ]
    }
   ],
   "source": [
    "model=Transformer(vocab_size=VOCAB_SIZE,padding_idx=PAD_ID)\n",
    "print(f\"Model parameters: {sum(p.numel() for p in model.parameters()):,}\")\n",
    "    "
   ]
  },
  {
   "cell_type": "code",
   "execution_count": 25,
   "id": "f94b60e3",
   "metadata": {},
   "outputs": [],
   "source": [
    "criterian=nn.CrossEntropyLoss(ignore_index=PAD_ID)\n",
    "optimizer =torch.optim.Adam(model.parameters(),lr=1e-3)\n",
    "scheduler =torch.optim.lr_scheduler.ReduceLROnPlateau(optimizer,patience=3,factor=0.5) "
   ]
  },
  {
   "cell_type": "code",
   "execution_count": 26,
   "id": "f94c9ab8",
   "metadata": {},
   "outputs": [
    {
     "name": "stderr",
     "output_type": "stream",
     "text": [
      "Training (TF=0.6):   2%|▏         | 6/257 [00:11<07:46,  1.86s/it, Train loss=3.83]\n"
     ]
    },
    {
     "ename": "KeyboardInterrupt",
     "evalue": "",
     "output_type": "error",
     "traceback": [
      "\u001b[31m---------------------------------------------------------------------------\u001b[39m",
      "\u001b[31mKeyboardInterrupt\u001b[39m                         Traceback (most recent call last)",
      "\u001b[36mCell\u001b[39m\u001b[36m \u001b[39m\u001b[32mIn[26]\u001b[39m\u001b[32m, line 1\u001b[39m\n\u001b[32m----> \u001b[39m\u001b[32m1\u001b[39m loss =\u001b[43mtrain_epoch\u001b[49m\u001b[43m(\u001b[49m\u001b[43mmodel\u001b[49m\u001b[43m,\u001b[49m\u001b[43mtrain_loader\u001b[49m\u001b[43m,\u001b[49m\u001b[43mcriterian\u001b[49m\u001b[43m,\u001b[49m\u001b[43moptimizer\u001b[49m\u001b[43m,\u001b[49m\u001b[43mteacher_forcing\u001b[49m\u001b[43m=\u001b[49m\u001b[32;43m0.6\u001b[39;49m\u001b[43m)\u001b[49m\n",
      "\u001b[36mCell\u001b[39m\u001b[36m \u001b[39m\u001b[32mIn[20]\u001b[39m\u001b[32m, line 22\u001b[39m, in \u001b[36mtrain_epoch\u001b[39m\u001b[34m(model, dataloader, criterian, optimizer, teacher_forcing)\u001b[39m\n\u001b[32m     18\u001b[39m output= model(input_ids,decoder_input,padding_mask,tgt_look_ahead_mask,teacher_forcing=teacher_forcing)\n\u001b[32m     21\u001b[39m loss = criterian(output.reshape(-\u001b[32m1\u001b[39m,output.size(-\u001b[32m1\u001b[39m)),decoder_target.reshape(-\u001b[32m1\u001b[39m))\n\u001b[32m---> \u001b[39m\u001b[32m22\u001b[39m \u001b[43mloss\u001b[49m\u001b[43m.\u001b[49m\u001b[43mbackward\u001b[49m\u001b[43m(\u001b[49m\u001b[43m)\u001b[49m\n\u001b[32m     23\u001b[39m torch.nn.utils.clip_grad_norm_(model.parameters(),\u001b[32m1.0\u001b[39m)\n\u001b[32m     24\u001b[39m optimizer.step()\n",
      "\u001b[36mFile \u001b[39m\u001b[32mc:\\Users\\NCS\\anaconda3\\envs\\env_ML_2\\Lib\\site-packages\\torch\\_tensor.py:617\u001b[39m, in \u001b[36mTensor.backward\u001b[39m\u001b[34m(self, gradient, retain_graph, create_graph, inputs)\u001b[39m\n\u001b[32m    573\u001b[39m \u001b[38;5;250m\u001b[39m\u001b[33mr\u001b[39m\u001b[33;03m\"\"\"Computes the gradient of current tensor wrt graph leaves.\u001b[39;00m\n\u001b[32m    574\u001b[39m \n\u001b[32m    575\u001b[39m \u001b[33;03mThe graph is differentiated using the chain rule. If the tensor is\u001b[39;00m\n\u001b[32m   (...)\u001b[39m\u001b[32m    614\u001b[39m \u001b[33;03m        used to compute the :attr:`tensors`.\u001b[39;00m\n\u001b[32m    615\u001b[39m \u001b[33;03m\"\"\"\u001b[39;00m\n\u001b[32m    616\u001b[39m \u001b[38;5;28;01mif\u001b[39;00m has_torch_function_unary(\u001b[38;5;28mself\u001b[39m):\n\u001b[32m--> \u001b[39m\u001b[32m617\u001b[39m     \u001b[38;5;28;01mreturn\u001b[39;00m \u001b[43mhandle_torch_function\u001b[49m\u001b[43m(\u001b[49m\n\u001b[32m    618\u001b[39m \u001b[43m        \u001b[49m\u001b[43mTensor\u001b[49m\u001b[43m.\u001b[49m\u001b[43mbackward\u001b[49m\u001b[43m,\u001b[49m\n\u001b[32m    619\u001b[39m \u001b[43m        \u001b[49m\u001b[43m(\u001b[49m\u001b[38;5;28;43mself\u001b[39;49m\u001b[43m,\u001b[49m\u001b[43m)\u001b[49m\u001b[43m,\u001b[49m\n\u001b[32m    620\u001b[39m \u001b[43m        \u001b[49m\u001b[38;5;28;43mself\u001b[39;49m\u001b[43m,\u001b[49m\n\u001b[32m    621\u001b[39m \u001b[43m        \u001b[49m\u001b[43mgradient\u001b[49m\u001b[43m=\u001b[49m\u001b[43mgradient\u001b[49m\u001b[43m,\u001b[49m\n\u001b[32m    622\u001b[39m \u001b[43m        \u001b[49m\u001b[43mretain_graph\u001b[49m\u001b[43m=\u001b[49m\u001b[43mretain_graph\u001b[49m\u001b[43m,\u001b[49m\n\u001b[32m    623\u001b[39m \u001b[43m        \u001b[49m\u001b[43mcreate_graph\u001b[49m\u001b[43m=\u001b[49m\u001b[43mcreate_graph\u001b[49m\u001b[43m,\u001b[49m\n\u001b[32m    624\u001b[39m \u001b[43m        \u001b[49m\u001b[43minputs\u001b[49m\u001b[43m=\u001b[49m\u001b[43minputs\u001b[49m\u001b[43m,\u001b[49m\n\u001b[32m    625\u001b[39m \u001b[43m    \u001b[49m\u001b[43m)\u001b[49m\n\u001b[32m    626\u001b[39m torch.autograd.backward(\n\u001b[32m    627\u001b[39m     \u001b[38;5;28mself\u001b[39m, gradient, retain_graph, create_graph, inputs=inputs\n\u001b[32m    628\u001b[39m )\n",
      "\u001b[36mFile \u001b[39m\u001b[32mc:\\Users\\NCS\\anaconda3\\envs\\env_ML_2\\Lib\\site-packages\\torch\\overrides.py:1720\u001b[39m, in \u001b[36mhandle_torch_function\u001b[39m\u001b[34m(public_api, relevant_args, *args, **kwargs)\u001b[39m\n\u001b[32m   1716\u001b[39m \u001b[38;5;28;01mif\u001b[39;00m _is_torch_function_mode_enabled():\n\u001b[32m   1717\u001b[39m     \u001b[38;5;66;03m# if we're here, the mode must be set to a TorchFunctionStackMode\u001b[39;00m\n\u001b[32m   1718\u001b[39m     \u001b[38;5;66;03m# this unsets it and calls directly into TorchFunctionStackMode's torch function\u001b[39;00m\n\u001b[32m   1719\u001b[39m     \u001b[38;5;28;01mwith\u001b[39;00m _pop_mode_temporarily() \u001b[38;5;28;01mas\u001b[39;00m mode:\n\u001b[32m-> \u001b[39m\u001b[32m1720\u001b[39m         result = \u001b[43mmode\u001b[49m\u001b[43m.\u001b[49m\u001b[43m__torch_function__\u001b[49m\u001b[43m(\u001b[49m\u001b[43mpublic_api\u001b[49m\u001b[43m,\u001b[49m\u001b[43m \u001b[49m\u001b[43mtypes\u001b[49m\u001b[43m,\u001b[49m\u001b[43m \u001b[49m\u001b[43margs\u001b[49m\u001b[43m,\u001b[49m\u001b[43m \u001b[49m\u001b[43mkwargs\u001b[49m\u001b[43m)\u001b[49m\n\u001b[32m   1721\u001b[39m     \u001b[38;5;28;01mif\u001b[39;00m result \u001b[38;5;129;01mis\u001b[39;00m \u001b[38;5;129;01mnot\u001b[39;00m \u001b[38;5;28mNotImplemented\u001b[39m:\n\u001b[32m   1722\u001b[39m         \u001b[38;5;28;01mreturn\u001b[39;00m result\n",
      "\u001b[36mFile \u001b[39m\u001b[32mc:\\Users\\NCS\\anaconda3\\envs\\env_ML_2\\Lib\\site-packages\\torch\\utils\\_device.py:104\u001b[39m, in \u001b[36mDeviceContext.__torch_function__\u001b[39m\u001b[34m(self, func, types, args, kwargs)\u001b[39m\n\u001b[32m    102\u001b[39m \u001b[38;5;28;01mif\u001b[39;00m func \u001b[38;5;129;01min\u001b[39;00m _device_constructors() \u001b[38;5;129;01mand\u001b[39;00m kwargs.get(\u001b[33m'\u001b[39m\u001b[33mdevice\u001b[39m\u001b[33m'\u001b[39m) \u001b[38;5;129;01mis\u001b[39;00m \u001b[38;5;28;01mNone\u001b[39;00m:\n\u001b[32m    103\u001b[39m     kwargs[\u001b[33m'\u001b[39m\u001b[33mdevice\u001b[39m\u001b[33m'\u001b[39m] = \u001b[38;5;28mself\u001b[39m.device\n\u001b[32m--> \u001b[39m\u001b[32m104\u001b[39m \u001b[38;5;28;01mreturn\u001b[39;00m \u001b[43mfunc\u001b[49m\u001b[43m(\u001b[49m\u001b[43m*\u001b[49m\u001b[43margs\u001b[49m\u001b[43m,\u001b[49m\u001b[43m \u001b[49m\u001b[43m*\u001b[49m\u001b[43m*\u001b[49m\u001b[43mkwargs\u001b[49m\u001b[43m)\u001b[49m\n",
      "\u001b[36mFile \u001b[39m\u001b[32mc:\\Users\\NCS\\anaconda3\\envs\\env_ML_2\\Lib\\site-packages\\torch\\_tensor.py:626\u001b[39m, in \u001b[36mTensor.backward\u001b[39m\u001b[34m(self, gradient, retain_graph, create_graph, inputs)\u001b[39m\n\u001b[32m    616\u001b[39m \u001b[38;5;28;01mif\u001b[39;00m has_torch_function_unary(\u001b[38;5;28mself\u001b[39m):\n\u001b[32m    617\u001b[39m     \u001b[38;5;28;01mreturn\u001b[39;00m handle_torch_function(\n\u001b[32m    618\u001b[39m         Tensor.backward,\n\u001b[32m    619\u001b[39m         (\u001b[38;5;28mself\u001b[39m,),\n\u001b[32m   (...)\u001b[39m\u001b[32m    624\u001b[39m         inputs=inputs,\n\u001b[32m    625\u001b[39m     )\n\u001b[32m--> \u001b[39m\u001b[32m626\u001b[39m \u001b[43mtorch\u001b[49m\u001b[43m.\u001b[49m\u001b[43mautograd\u001b[49m\u001b[43m.\u001b[49m\u001b[43mbackward\u001b[49m\u001b[43m(\u001b[49m\n\u001b[32m    627\u001b[39m \u001b[43m    \u001b[49m\u001b[38;5;28;43mself\u001b[39;49m\u001b[43m,\u001b[49m\u001b[43m \u001b[49m\u001b[43mgradient\u001b[49m\u001b[43m,\u001b[49m\u001b[43m \u001b[49m\u001b[43mretain_graph\u001b[49m\u001b[43m,\u001b[49m\u001b[43m \u001b[49m\u001b[43mcreate_graph\u001b[49m\u001b[43m,\u001b[49m\u001b[43m \u001b[49m\u001b[43minputs\u001b[49m\u001b[43m=\u001b[49m\u001b[43minputs\u001b[49m\n\u001b[32m    628\u001b[39m \u001b[43m\u001b[49m\u001b[43m)\u001b[49m\n",
      "\u001b[36mFile \u001b[39m\u001b[32mc:\\Users\\NCS\\anaconda3\\envs\\env_ML_2\\Lib\\site-packages\\torch\\autograd\\__init__.py:347\u001b[39m, in \u001b[36mbackward\u001b[39m\u001b[34m(tensors, grad_tensors, retain_graph, create_graph, grad_variables, inputs)\u001b[39m\n\u001b[32m    342\u001b[39m     retain_graph = create_graph\n\u001b[32m    344\u001b[39m \u001b[38;5;66;03m# The reason we repeat the same comment below is that\u001b[39;00m\n\u001b[32m    345\u001b[39m \u001b[38;5;66;03m# some Python versions print out the first line of a multi-line function\u001b[39;00m\n\u001b[32m    346\u001b[39m \u001b[38;5;66;03m# calls in the traceback and some print out the last line\u001b[39;00m\n\u001b[32m--> \u001b[39m\u001b[32m347\u001b[39m \u001b[43m_engine_run_backward\u001b[49m\u001b[43m(\u001b[49m\n\u001b[32m    348\u001b[39m \u001b[43m    \u001b[49m\u001b[43mtensors\u001b[49m\u001b[43m,\u001b[49m\n\u001b[32m    349\u001b[39m \u001b[43m    \u001b[49m\u001b[43mgrad_tensors_\u001b[49m\u001b[43m,\u001b[49m\n\u001b[32m    350\u001b[39m \u001b[43m    \u001b[49m\u001b[43mretain_graph\u001b[49m\u001b[43m,\u001b[49m\n\u001b[32m    351\u001b[39m \u001b[43m    \u001b[49m\u001b[43mcreate_graph\u001b[49m\u001b[43m,\u001b[49m\n\u001b[32m    352\u001b[39m \u001b[43m    \u001b[49m\u001b[43minputs\u001b[49m\u001b[43m,\u001b[49m\n\u001b[32m    353\u001b[39m \u001b[43m    \u001b[49m\u001b[43mallow_unreachable\u001b[49m\u001b[43m=\u001b[49m\u001b[38;5;28;43;01mTrue\u001b[39;49;00m\u001b[43m,\u001b[49m\n\u001b[32m    354\u001b[39m \u001b[43m    \u001b[49m\u001b[43maccumulate_grad\u001b[49m\u001b[43m=\u001b[49m\u001b[38;5;28;43;01mTrue\u001b[39;49;00m\u001b[43m,\u001b[49m\n\u001b[32m    355\u001b[39m \u001b[43m\u001b[49m\u001b[43m)\u001b[49m\n",
      "\u001b[36mFile \u001b[39m\u001b[32mc:\\Users\\NCS\\anaconda3\\envs\\env_ML_2\\Lib\\site-packages\\torch\\autograd\\graph.py:823\u001b[39m, in \u001b[36m_engine_run_backward\u001b[39m\u001b[34m(t_outputs, *args, **kwargs)\u001b[39m\n\u001b[32m    821\u001b[39m     unregister_hooks = _register_logging_hooks_on_whole_graph(t_outputs)\n\u001b[32m    822\u001b[39m \u001b[38;5;28;01mtry\u001b[39;00m:\n\u001b[32m--> \u001b[39m\u001b[32m823\u001b[39m     \u001b[38;5;28;01mreturn\u001b[39;00m \u001b[43mVariable\u001b[49m\u001b[43m.\u001b[49m\u001b[43m_execution_engine\u001b[49m\u001b[43m.\u001b[49m\u001b[43mrun_backward\u001b[49m\u001b[43m(\u001b[49m\u001b[43m  \u001b[49m\u001b[38;5;66;43;03m# Calls into the C++ engine to run the backward pass\u001b[39;49;00m\n\u001b[32m    824\u001b[39m \u001b[43m        \u001b[49m\u001b[43mt_outputs\u001b[49m\u001b[43m,\u001b[49m\u001b[43m \u001b[49m\u001b[43m*\u001b[49m\u001b[43margs\u001b[49m\u001b[43m,\u001b[49m\u001b[43m \u001b[49m\u001b[43m*\u001b[49m\u001b[43m*\u001b[49m\u001b[43mkwargs\u001b[49m\n\u001b[32m    825\u001b[39m \u001b[43m    \u001b[49m\u001b[43m)\u001b[49m  \u001b[38;5;66;03m# Calls into the C++ engine to run the backward pass\u001b[39;00m\n\u001b[32m    826\u001b[39m \u001b[38;5;28;01mfinally\u001b[39;00m:\n\u001b[32m    827\u001b[39m     \u001b[38;5;28;01mif\u001b[39;00m attach_logging_hooks:\n",
      "\u001b[31mKeyboardInterrupt\u001b[39m: "
     ]
    }
   ],
   "source": [
    "loss =train_epoch(model,train_loader,criterian,optimizer,teacher_forcing=0.6)"
   ]
  },
  {
   "cell_type": "code",
   "execution_count": 28,
   "id": "c3611f1d",
   "metadata": {},
   "outputs": [
    {
     "name": "stderr",
     "output_type": "stream",
     "text": [
      "Evaluating (no teacher forcing): 100%|██████████| 65/65 [00:35<00:00,  1.85it/s, val loss=3.39]\n"
     ]
    },
    {
     "name": "stdout",
     "output_type": "stream",
     "text": [
      "\n",
      "Evaluation Results:\n",
      "  Val Loss:  3.6324480790358322\n",
      "  BLEU:  0.0\n",
      "  ROUGE-L:  83.48919860627177\n",
      "  chrF:  30.289035775341734\n",
      "  Perplexity:  37.805253673368846\n"
     ]
    }
   ],
   "source": [
    "output = evaluate(model, val_loader,criterian)\n",
    "        "
   ]
  },
  {
   "cell_type": "code",
   "execution_count": 29,
   "id": "4ce06113",
   "metadata": {},
   "outputs": [
    {
     "name": "stdout",
     "output_type": "stream",
     "text": [
      "Examples:\n",
      "\n",
      "  Example 1:\n",
      "    Prediction: <mask>\n",
      "    Reference:  <mask>ر<mask>یا<mask>ر<mask>ان\n",
      "\n",
      "  Example 2:\n",
      "    Prediction: <mask>\n",
      "    Reference:  <mask>ر\n",
      "\n",
      "  Example 3:\n",
      "    Prediction: <mask>\n",
      "    Reference:  <mask> حکومت\n",
      "\n",
      "  Example 4:\n",
      "    Prediction: <mask>\n",
      "    Reference:  <mask> این ڈی ای\n",
      "\n",
      "  Example 5:\n",
      "    Prediction: <mask>\n",
      "    Reference:  <mask> رہ\n",
      "\n",
      "  Example 6:\n",
      "    Prediction: <mask>\n",
      "    Reference:  <mask>ر<mask>س<mask>تی\n",
      "\n",
      "  Example 7:\n",
      "    Prediction: <mask>\n",
      "    Reference:  <mask>ٹ<mask> وو<mask> کی م\n",
      "\n",
      "  Example 8:\n",
      "    Prediction: <mask>\n",
      "    Reference:  <mask>ابوں\n",
      "\n",
      "  Example 9:\n",
      "    Prediction: <mask>\n",
      "    Reference:  <mask>انی کے ساتھ ایک<mask>و\n",
      "\n",
      "  Example 10:\n",
      "    Prediction: <mask>\n",
      "    Reference:  <mask> کی\n"
     ]
    }
   ],
   "source": [
    "print(\"Examples:\")\n",
    "for i in range(10):\n",
    "    print(f\"\\n  Example {i+1}:\")\n",
    "    print(f\"    Prediction: {output['predictions'][i]}\")\n",
    "    print(f\"    Reference:  {output['references'][i]}\")"
   ]
  },
  {
   "cell_type": "code",
   "execution_count": null,
   "id": "22319598",
   "metadata": {},
   "outputs": [],
   "source": []
  }
 ],
 "metadata": {
  "kernelspec": {
   "display_name": "env_ML_2",
   "language": "python",
   "name": "python3"
  },
  "language_info": {
   "codemirror_mode": {
    "name": "ipython",
    "version": 3
   },
   "file_extension": ".py",
   "mimetype": "text/x-python",
   "name": "python",
   "nbconvert_exporter": "python",
   "pygments_lexer": "ipython3",
   "version": "3.12.3"
  }
 },
 "nbformat": 4,
 "nbformat_minor": 5
}

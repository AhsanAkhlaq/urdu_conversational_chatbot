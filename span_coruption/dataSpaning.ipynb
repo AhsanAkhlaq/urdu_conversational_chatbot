{
 "cells": [
  {
   "cell_type": "code",
   "execution_count": 169,
   "id": "389a2e12",
   "metadata": {},
   "outputs": [],
   "source": [
    "import sentencepiece as sp\n",
    "import random"
   ]
  },
  {
   "cell_type": "code",
   "execution_count": 170,
   "id": "8a18027e",
   "metadata": {},
   "outputs": [],
   "source": [
    "random.seed(1)"
   ]
  },
  {
   "cell_type": "code",
   "execution_count": 171,
   "id": "da0d6f0d",
   "metadata": {},
   "outputs": [
    {
     "data": {
      "text/plain": [
       "<sentencepiece.SentencePieceProcessor; proxy of <Swig Object of type 'sentencepiece::SentencePieceProcessor *' at 0x000001C6A479D980> >"
      ]
     },
     "execution_count": 171,
     "metadata": {},
     "output_type": "execute_result"
    }
   ],
   "source": [
    "tokenizer  = sp.SentencePieceProcessor()\n",
    "tokenizer.Load('D:/Workspace/PYTHON/NLP/Project2/tokenizer/unigram/unigram_tokenizer.model')\n",
    "tokenizer"
   ]
  },
  {
   "cell_type": "code",
   "execution_count": 173,
   "id": "3260ef54",
   "metadata": {},
   "outputs": [
    {
     "name": "stdout",
     "output_type": "stream",
     "text": [
      "10247\n",
      "میرا اس سے کوئی لینا دینا نہیں\n"
     ]
    }
   ],
   "source": [
    "with open(\"D:/Workspace/PYTHON/NLP/Project2/Data/sentences_cleaned.txt\", \"r\", encoding=\"utf-8\") as f:\n",
    "    sentences = [line.strip() for line in f if line.strip()]\n",
    "print(len(sentences))\n",
    "print(sentences[0])"
   ]
  },
  {
   "cell_type": "code",
   "execution_count": 174,
   "id": "31950006",
   "metadata": {},
   "outputs": [
    {
     "name": "stdout",
     "output_type": "stream",
     "text": [
      "0 1 2 3 4\n"
     ]
    }
   ],
   "source": [
    "PAD_ID = tokenizer.piece_to_id('<pad>')\n",
    "UNK_ID = tokenizer.piece_to_id('<unk>')\n",
    "SOS_ID = tokenizer.piece_to_id('<s>')\n",
    "EOS_ID = tokenizer.piece_to_id('</s>')\n",
    "MASK_ID = tokenizer.piece_to_id('<mask>')\n",
    "print(PAD_ID,UNK_ID,SOS_ID,EOS_ID,MASK_ID)"
   ]
  },
  {
   "cell_type": "code",
   "execution_count": 175,
   "id": "5c6e4fd5",
   "metadata": {},
   "outputs": [
    {
     "name": "stdout",
     "output_type": "stream",
     "text": [
      "Sample tokenized: [437, 19, 16, 101, 135, 59, 288, 6, 34]\n",
      "Decoded: میرا اس سے کوئی لینا دینا نہیں\n"
     ]
    }
   ],
   "source": [
    "# Tokenize all sentences\n",
    "tokenized_data = []\n",
    "for sent in sentences:\n",
    "    tokens = tokenizer.encode(sent)\n",
    "    tokenized_data.append(tokens)\n",
    "print(f\"Sample tokenized: {tokenized_data[0]}\")\n",
    "print(f\"Decoded: {tokenizer.decode(tokenized_data[0])}\")\n"
   ]
  },
  {
   "cell_type": "code",
   "execution_count": 181,
   "id": "52070680",
   "metadata": {},
   "outputs": [],
   "source": [
    "def create_span_corruption(tokens, mask_ratio=0.15, mean_span_length=1):\n",
    "\n",
    "    # Calculate number of tokens to mask\n",
    "    num_to_mask = max(1, int(len(tokens) * mask_ratio))\n",
    "    \n",
    "    # Calculate number of spans\n",
    "    num_spans = max(1, int(num_to_mask / mean_span_length))\n",
    "    \n",
    "    # Randomly select span start positions\n",
    "    possible_starts = list(range(len(tokens)))\n",
    "    random.shuffle(possible_starts)\n",
    "    \n",
    "    masked_positions = set()\n",
    "    spans = []\n",
    "    \n",
    "    for start_pos in possible_starts:\n",
    "        if start_pos not in masked_positions:\n",
    "            # Randomly determine span length \n",
    "            span_length = min(\n",
    "                max(1, int(random.expovariate(1.0 / mean_span_length))), #(Poisson-like distribution)\n",
    "                len(tokens) - start_pos\n",
    "            )\n",
    "            \n",
    "            # Add positions to masked set\n",
    "            span_positions = list(range(start_pos, start_pos + span_length))\n",
    "            if not any(pos in masked_positions for pos in span_positions):\n",
    "                masked_positions.update(span_positions)\n",
    "                spans.append((start_pos, start_pos + span_length))\n",
    "                \n",
    "                if len(masked_positions) >= num_to_mask:\n",
    "                    break\n",
    "    \n",
    "    # Sort spans by position\n",
    "    spans.sort()\n",
    "    \n",
    "    # Create input sequence (with <mask> tokens)\n",
    "    input_ids = [SOS_ID]\n",
    "    target_ids = [SOS_ID]\n",
    "    \n",
    "    last_idx = 0\n",
    "    for start, end in spans:\n",
    "        # Add non-masked tokens before this span\n",
    "        input_ids.extend(tokens[last_idx:start])\n",
    "        \n",
    "        # Add single <mask> token for the entire span\n",
    "        input_ids.append(MASK_ID)\n",
    "        \n",
    "        # Add masked tokens to target\n",
    "        \n",
    "        target_ids.extend(tokens[start:end]) \n",
    "        target_ids.append(MASK_ID)\n",
    "        last_idx = end\n",
    "    \n",
    "    # Add remaining non-masked tokens\n",
    "    input_ids.extend(tokens[last_idx:])\n",
    "    input_ids.append(EOS_ID)\n",
    "    target_ids.append(EOS_ID)\n",
    "    \n",
    "    return input_ids, target_ids\n"
   ]
  },
  {
   "cell_type": "code",
   "execution_count": 182,
   "id": "6103921e",
   "metadata": {},
   "outputs": [],
   "source": [
    "dataset = []\n",
    "for tokens in tokenized_data:\n",
    "    input_ids, target_ids = create_span_corruption(tokens)\n",
    "    dataset.append({\n",
    "        'input_ids': input_ids,\n",
    "        'target_ids': target_ids,\n",
    "    })"
   ]
  },
  {
   "cell_type": "code",
   "execution_count": 183,
   "id": "a94f4443",
   "metadata": {},
   "outputs": [
    {
     "data": {
      "text/plain": [
       "10247"
      ]
     },
     "execution_count": 183,
     "metadata": {},
     "output_type": "execute_result"
    }
   ],
   "source": [
    "len(dataset)"
   ]
  },
  {
   "cell_type": "code",
   "execution_count": 184,
   "id": "52cc1e52",
   "metadata": {},
   "outputs": [
    {
     "name": "stdout",
     "output_type": "stream",
     "text": [
      "Input IDs:  [2, 437, 19, 16, 101, 135, 59, 4, 6, 34, 3]\n",
      "Target IDs: [2, 288, 4, 3]\n",
      "Input:  میرا اس سے کوئی لینا<mask>ا نہیں\n",
      "Target: دین<mask>\n"
     ]
    }
   ],
   "source": [
    "\n",
    "print(f\"Input IDs:  {dataset[0]['input_ids']}\")\n",
    "print(f\"Target IDs: {dataset[0]['target_ids']}\")\n",
    "print(f\"Input:  {tokenizer.decode(dataset[0]['input_ids'])}\")\n",
    "print(f\"Target: {tokenizer.decode(dataset[0]['target_ids'])}\")\n",
    "\n"
   ]
  },
  {
   "cell_type": "code",
   "execution_count": 185,
   "id": "03999e67",
   "metadata": {},
   "outputs": [],
   "source": [
    "import torch\n",
    "torch.save({\n",
    "    'input_ids': [d['input_ids'] for d in dataset],\n",
    "    'target_ids': [d['target_ids'] for d in dataset],\n",
    "}, 'span_corruption_dataset.pt')\n"
   ]
  },
  {
   "cell_type": "code",
   "execution_count": 186,
   "id": "a46674c5",
   "metadata": {},
   "outputs": [
    {
     "name": "stdout",
     "output_type": "stream",
     "text": [
      "\n",
      "Dataset Statistics:\n",
      "Total examples: 10247\n",
      "Avg input length: 15.1\n",
      "Avg target length: 5.4\n",
      "Max input length: 61\n",
      "Max target length: 18\n"
     ]
    }
   ],
   "source": [
    "\n",
    "# Statistics\n",
    "input_lengths = [len(d['input_ids']) for d in dataset]\n",
    "target_lengths = [len(d['target_ids']) for d in dataset]\n",
    "\n",
    "print(f\"\\nDataset Statistics:\")\n",
    "print(f\"Total examples: {len(dataset)}\")\n",
    "print(f\"Avg input length: {sum(input_lengths)/len(input_lengths):.1f}\")\n",
    "print(f\"Avg target length: {sum(target_lengths)/len(target_lengths):.1f}\")\n",
    "print(f\"Max input length: {max(input_lengths)}\")\n",
    "print(f\"Max target length: {max(target_lengths)}\")"
   ]
  },
  {
   "cell_type": "code",
   "execution_count": null,
   "id": "05a140a1",
   "metadata": {},
   "outputs": [],
   "source": []
  },
  {
   "cell_type": "code",
   "execution_count": null,
   "id": "8c81d0a9",
   "metadata": {},
   "outputs": [],
   "source": []
  }
 ],
 "metadata": {
  "kernelspec": {
   "display_name": "env_ML_2",
   "language": "python",
   "name": "python3"
  },
  "language_info": {
   "codemirror_mode": {
    "name": "ipython",
    "version": 3
   },
   "file_extension": ".py",
   "mimetype": "text/x-python",
   "name": "python",
   "nbconvert_exporter": "python",
   "pygments_lexer": "ipython3",
   "version": "3.12.3"
  }
 },
 "nbformat": 4,
 "nbformat_minor": 5
}
